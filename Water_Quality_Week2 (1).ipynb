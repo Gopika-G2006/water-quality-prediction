{
 "cells": [
  {
   "cell_type": "markdown",
   "id": "9f54b69a",
   "metadata": {},
   "source": [
    "# Week 2 – Multi-Output Regression (AICTE Skills4Future)"
   ]
  },
  {
   "cell_type": "code",
   "execution_count": null,
   "id": "5304128d",
   "metadata": {},
   "outputs": [],
   "source": [
    "# Import required libraries"
   ]
  },
  {
   "cell_type": "code",
   "execution_count": null,
   "id": "cf5c97a0",
   "metadata": {},
   "outputs": [],
   "source": [
    "import pandas as pd\n",
    "import numpy as np\n",
    "from sklearn.multioutput import MultiOutputRegressor\n",
    "from sklearn.ensemble import RandomForestRegressor\n",
    "from sklearn.model_selection import train_test_split\n",
    "from sklearn.metrics import mean_squared_error, r2_score"
   ]
  },
  {
   "cell_type": "code",
   "execution_count": null,
   "id": "8c24f136",
   "metadata": {},
   "outputs": [],
   "source": [
    "# Load the dataset (update path if needed)"
   ]
  },
  {
   "cell_type": "code",
   "execution_count": null,
   "id": "3dd1dfd0",
   "metadata": {},
   "outputs": [],
   "source": [
    "df = pd.read_csv('PB_ALL_2000_2021.csv', sep=';')"
   ]
  },
  {
   "cell_type": "code",
   "execution_count": null,
   "id": "98c6feda",
   "metadata": {},
   "outputs": [],
   "source": [
    "# Explore the data"
   ]
  },
  {
   "cell_type": "code",
   "execution_count": null,
   "id": "4b9fd1cf",
   "metadata": {},
   "outputs": [],
   "source": [
    "print(df.info())\n",
    "print(\"Shape of the dataset:\", df.shape)\n",
    "df.head()"
   ]
  },
  {
   "cell_type": "code",
   "execution_count": null,
   "id": "d667a829",
   "metadata": {},
   "outputs": [],
   "source": [
    "# Drop missing values if any"
   ]
  },
  {
   "cell_type": "code",
   "execution_count": null,
   "id": "499e9a3b",
   "metadata": {},
   "outputs": [],
   "source": [
    "df.dropna(inplace=True)"
   ]
  },
  {
   "cell_type": "code",
   "execution_count": null,
   "id": "934792ca",
   "metadata": {},
   "outputs": [],
   "source": [
    "# Define features and targets (adjust columns if needed)"
   ]
  },
  {
   "cell_type": "code",
   "execution_count": null,
   "id": "a603936e",
   "metadata": {},
   "outputs": [],
   "source": [
    "X = df.iloc[:, :-2]  # All except last 2 columns\n",
    "Y = df.iloc[:, -2:]   # Last 2 columns as target"
   ]
  },
  {
   "cell_type": "code",
   "execution_count": null,
   "id": "a3e51edc",
   "metadata": {},
   "outputs": [],
   "source": [
    "# Train-test split"
   ]
  },
  {
   "cell_type": "code",
   "execution_count": null,
   "id": "e49b3fe1",
   "metadata": {},
   "outputs": [],
   "source": [
    "X_train, X_test, y_train, y_test = train_test_split(X, Y, test_size=0.2, random_state=42)"
   ]
  },
  {
   "cell_type": "code",
   "execution_count": null,
   "id": "09d7f110",
   "metadata": {},
   "outputs": [],
   "source": [
    "# Train the MultiOutput Regressor with RandomForest"
   ]
  },
  {
   "cell_type": "code",
   "execution_count": null,
   "id": "90322bd0",
   "metadata": {},
   "outputs": [],
   "source": [
    "model = MultiOutputRegressor(RandomForestRegressor())\n",
    "model.fit(X_train, y_train)"
   ]
  },
  {
   "cell_type": "code",
   "execution_count": null,
   "id": "73617760",
   "metadata": {},
   "outputs": [],
   "source": [
    "# Make predictions"
   ]
  },
  {
   "cell_type": "code",
   "execution_count": null,
   "id": "5b72f86d",
   "metadata": {},
   "outputs": [],
   "source": [
    "y_pred = model.predict(X_test)"
   ]
  },
  {
   "cell_type": "code",
   "execution_count": null,
   "id": "22643466",
   "metadata": {},
   "outputs": [],
   "source": [
    "# Evaluate the model"
   ]
  },
  {
   "cell_type": "code",
   "execution_count": null,
   "id": "9377fa55",
   "metadata": {},
   "outputs": [],
   "source": [
    "print(\"R² Score:\", r2_score(y_test, y_pred, multioutput='uniform_average'))\n",
    "print(\"Mean Squared Error:\", mean_squared_error(y_test, y_pred))"
   ]
  }
 ],
 "metadata": {},
 "nbformat": 4,
 "nbformat_minor": 5
}
